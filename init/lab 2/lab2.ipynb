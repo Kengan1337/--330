{
 "cells": [
  {
   "cell_type": "code",
   "execution_count": 1,
   "metadata": {},
   "outputs": [
    {
     "name": "stdout",
     "output_type": "stream",
     "text": [
      "1 Буде виведено на екран: це є стрічка 1 2.5 Кінець виводу\n",
      "2 Буде виведено на екран: це є стрічка 1 2.5 Кінець виводу\n",
      "3 Буде виведено на екран: це є стрічка 1 2.5 Кінець виводу\n",
      "4 Буде виведено на екран: це є стрічка 1 2.5 Кінець виводу\n",
      "Це є стрічка <class 'str'>\n",
      "Це був оригінал це є стрічка Це вже модифікована стрічка Це є стрічка\n"
     ]
    }
   ],
   "source": [
    "str_1 = \"це є стрічка\"\n",
    "int_1 = 1\n",
    "float_1 = 2.5\n",
    "\n",
    "print(\"1 Буде виведено на екран:\", str_1, int_1, float_1, \"Кінець виводу\")\n",
    "\n",
    "print(\"2 Буде виведено на екран: \" + str_1 + \" \" + str(int_1) + \" \" + str(float_1) + \" Кінець виводу\")\n",
    "\n",
    "print(\"3 Буде виведено на екран: {1} {2} {3} {0}\".format(\"Кінець виводу\", str_1, int_1, float_1))\n",
    "\n",
    "print(f\"4 Буде виведено на екран: {str_1} {int_1} {float_1} Кінець виводу\")\n",
    "\n",
    "print(f\"Це є стрічка {type(str_1)}\")\n",
    "str_2 = str_1.capitalize()\n",
    "print(f\"Це був оригінал {str_1} Це вже модифікована стрічка {str_2}\")"
   ]
  },
  {
   "cell_type": "code",
   "execution_count": 2,
   "metadata": {},
   "outputs": [
    {
     "name": "stdout",
     "output_type": "stream",
     "text": [
      "Розглядаємо тип даних <class 'list'>\n",
      "Тут містяться елементи ['Sting', 15, 1.2, 'abc', [1, 2], '!!!']\n",
      "Значення abc знаходиться на позиції 3 Як це круто !!!\n",
      "Елементи тюпла ('Sting', 15, 1.2, 'abc', [1, 2], '!!!'), та його нульовий елемент Sting\n",
      "Перетворення на ліст ['Sting', 15, 1.2, 'abc', [1, 2], '!!!', 'Додаток']\n"
     ]
    }
   ],
   "source": [
    "ll = [\"Sting\", 15, 1.2, \"abc\", [1, 2], \"!!!\"]\n",
    "print(f\"Розглядаємо тип даних {type(ll)}\")\n",
    "\n",
    "print(f\"Тут містяться елементи {ll}\")\n",
    "\n",
    "print(f\"Значення {ll[3]} знаходиться на позиції\", ll.index(\"abc\"), f\"Як це круто {ll[-1]}\")\n",
    "\n",
    "tt = tuple(ll)\n",
    "\n",
    "print(f\"Елементи тюпла {tt}, та його нульовий елемент {tt[0]}\")\n",
    "\n",
    "lt = list(tt)\n",
    "lt.append('Додаток')\n",
    "\n",
    "print(f\"Перетворення на ліст {lt}\")"
   ]
  },
  {
   "cell_type": "code",
   "execution_count": 14,
   "metadata": {},
   "outputs": [
    {
     "name": "stdout",
     "output_type": "stream",
     "text": [
      "Це є сет {1.2, 'abc', '!!!', 'Sting', 15}\n",
      "Це є словник {'name': 'Vitaliy', 'my_Age': 19, 'nn': ['aaa', 1], 'dd': {'abc': 'my_Age'}}\n"
     ]
    }
   ],
   "source": [
    "ss = {\"Sting\", 15, 15, 15, 1.2, \"abc\", \"!!!\", \"Sting\"}\n",
    "\n",
    "print(f\"Це є сет {ss}\")\n",
    "\n",
    "age = \"my_Age\"\n",
    "dd = {\"name\": \"Vitaliy\", age: 19, \"nn\": [\"aaa\", 1], \"dd\": {\"abc\": age}}\n",
    "print(f\"Це є словник {dd}\")"
   ]
  },
  {
   "cell_type": "code",
   "execution_count": 4,
   "metadata": {},
   "outputs": [
    {
     "name": "stdout",
     "output_type": "stream",
     "text": [
      "Перша константа False\n",
      "False не є те саме що і константа False\n"
     ]
    }
   ],
   "source": [
    "print(\"Перша константа\", False)\n",
    "Falses = \"False\"\n",
    "print(f\"{Falses} не є те саме що і константа {False}\")"
   ]
  },
  {
   "cell_type": "code",
   "execution_count": 5,
   "metadata": {},
   "outputs": [
    {
     "name": "stdout",
     "output_type": "stream",
     "text": [
      "12.5 є рівним 12.5\n",
      "Знаходимо максимальну величину в ['aa', 'sdfsd'] дорівнює sdfsd\n"
     ]
    }
   ],
   "source": [
    "print(abs(-12.5), f\"є рівним {abs(12.5)}\")\n",
    "test = [\"aa\", \"sdfsd\"]\n",
    "print(f\"Знаходимо максимальну величину в {test} дорівнює {max(test)}\")"
   ]
  },
  {
   "cell_type": "code",
   "execution_count": 6,
   "metadata": {},
   "outputs": [
    {
     "name": "stdout",
     "output_type": "stream",
     "text": [
      "О ні, це безкіннечний цикл!!! Ми на кроці 0\n",
      "О ні, це безкіннечний цикл!!! Ми на кроці 1\n",
      "О ні, це безкіннечний цикл!!! Ми на кроці 2\n",
      "О ні, це безкіннечний цикл!!! Ми на кроці 3\n",
      "О ні, це безкіннечний цикл!!! Ми на кроці 4\n",
      "ми виходимо з циклу\n",
      "О ні, це безкіннечний цикл!!! Ми на кроці 0\n",
      "О ні, це безкіннечний цикл!!! Ми на кроці 1\n",
      "Оминаємо один вивід\n",
      "О ні, це безкіннечний цикл!!! Ми на кроці 3\n",
      "Це блок елс, ми в досягнули значення False\n"
     ]
    }
   ],
   "source": [
    "li = [15, 55, \"abc\", \"qwe\", \"Кінець\"]\n",
    "\n",
    "i = 0\n",
    "while True:\n",
    "    print(f\"О ні, це безкіннечний цикл!!! Ми на кроці {i}\")\n",
    "    if li[i] == \"Кінець\":\n",
    "        print(\"ми виходимо з циклу\")\n",
    "        break\n",
    "    i += 1\n",
    "\n",
    "i = 0\n",
    "while li[i] != \"Кінець\":\n",
    "    if li[i] == \"abc\":\n",
    "        print(\"Оминаємо один вивід\")\n",
    "        i += 1\n",
    "        continue\n",
    "    print(f\"О ні, це безкіннечний цикл!!! Ми на кроці {i}\")\n",
    "    i += 1\n",
    "else:\n",
    "    print(\"Це блок елс, ми в досягнули значення False\")\n",
    "    "
   ]
  },
  {
   "cell_type": "code",
   "execution_count": 7,
   "metadata": {},
   "outputs": [
    {
     "name": "stdout",
     "output_type": "stream",
     "text": [
      "Елемент і = 15 а його порядковий номер 0\n",
      "Елемент і = 55 а його порядковий номер 1\n",
      "Виходимо з циклу\n",
      "['Виводжу значення 15', 'Виводжу значення 55', 'Виводжу значення abc', 'Виводжу значення qwe', 'Виводжу значення Кінець']\n",
      "/~\\\n",
      "/~\\/~\\\n",
      "/~\\/~\\/~\\\n",
      "/~\\/~\\/~\\/~\\\n",
      "/~\\/~\\/~\\/~\\/~\\\n",
      "/~\\/~\\/~\\/~\\/~\\/~\\\n",
      "/~\\/~\\/~\\/~\\/~\\/~\\/~\\\n",
      "/~\\/~\\/~\\/~\\/~\\/~\\/~\\/~\\\n",
      "/~\\/~\\/~\\/~\\/~\\/~\\/~\\/~\\/~\\\n"
     ]
    }
   ],
   "source": [
    "for i in li:\n",
    "    print(f\"Елемент і = {i} а його порядковий номер {li.index(i)}\")\n",
    "    if i == 55:\n",
    "        print(\"Виходимо з циклу\")\n",
    "        break\n",
    "\n",
    "print(list(f\"Виводжу значення {x}\" for x in li))\n",
    "\n",
    "for a in range(1, 10):\n",
    "    print(a * \"/~\\\\\")"
   ]
  },
  {
   "cell_type": "code",
   "execution_count": 8,
   "metadata": {},
   "outputs": [
    {
     "name": "stdout",
     "output_type": "stream",
     "text": [
      "Значення А відрізняється від наших умов A = 2\n",
      "Ми отримали значення А = 1? A = 1.0\n",
      "Значення А відрізняється від наших умов A = 5\n",
      "Ми отримали значення А = 3? A = 3\n",
      "Значення А відрізняється від наших умов A = 0\n",
      "Так тут є 5\n",
      "Значення 1 є рівним 1.0\n",
      "Значення 1 НЕ рівне 1.0\n"
     ]
    }
   ],
   "source": [
    "ll = [2, 1.0, 5, 3, 0]\n",
    "for A in ll:\n",
    "    if A == 1:\n",
    "        print(\"Ми отримали значення А = 1? A =\", A)\n",
    "    elif A == 3:\n",
    "        print(\"Ми отримали значення А = 3? A =\", A)\n",
    "    else:\n",
    "        print(\"Значення А відрізняється від наших умов A =\", A)\n",
    "\n",
    "if 5 in ll:\n",
    "    print(\"Так тут є 5\")\n",
    "else:\n",
    "    print(\"Ні, тут немає 5\")\n",
    "\n",
    "a = 1\n",
    "b = 1.0\n",
    "if a == b: #порівнюємо значення\n",
    "    print(f\"Значення {a} є рівним {b}\")\n",
    "else:\n",
    "    print(f\"Значення {a} НЕ рівне {b}\")\n",
    "\n",
    "if a is b: #порівнюємо обєкти\n",
    "    print(f\"Значення {a} є рівним {b}\")\n",
    "else:\n",
    "    print(f\"Значення {a} НЕ рівне {b}\")\n",
    "\n",
    "if bool(0) & bool(b):\n",
    "    print(\"Це не надрукується\")"
   ]
  },
  {
   "cell_type": "code",
   "execution_count": 9,
   "metadata": {},
   "outputs": [
    {
     "name": "stdout",
     "output_type": "stream",
     "text": [
      "Що буде якщо 10/3 =  3.3333333333333335 ?\n",
      "Сталась помилка, і ми її зловили Це є наша помилка, ми її створили\n",
      "А вот воно що!\n"
     ]
    }
   ],
   "source": [
    "from random import choice\n",
    "\n",
    "A = choice([2, 1.0, 5, 3, 0])\n",
    "try:\n",
    "    print(f\"Що буде якщо 10/{A} = \", 10/A, \"?\")\n",
    "    raise TypeError(\"Це є наша помилка, ми її створили\")\n",
    "except (ZeroDivisionError, TypeError) as e:\n",
    "    print(\"Сталась помилка, і ми її зловили\", e)\n",
    "finally:\n",
    "    print(\"А вот воно що!\")"
   ]
  },
  {
   "cell_type": "code",
   "execution_count": 12,
   "metadata": {},
   "outputs": [
    {
     "name": "stdout",
     "output_type": "stream",
     "text": [
      "Це є функція як обєкт: <function my_name at 0x0000018FC8A059E0>\n",
      "Викликаємо функцію: Віталій Імя Бала Б\n",
      "Це просто функція: <function <lambda> at 0x0000018FC8914B80>\n",
      "Це її виклик: Імя Віталій Бала Б\n"
     ]
    }
   ],
   "source": [
    "def my_name(first, last):\n",
    "    return f\"Віталій {first} Бала {last}\"\n",
    "\n",
    "print(\"Це є функція як обєкт:\", my_name)\n",
    "print(\"Викликаємо функцію:\", my_name(\"Імя\", \"Б\"))\n",
    "\n",
    "this_is_lambda = lambda first, last: f\"Імя {first} Бала {last}\"\n",
    "print(\"Це просто функція:\", this_is_lambda)\n",
    "print(\"Це її виклик:\", this_is_lambda('Віталій', 'Б'))"
   ]
  }
 ],
 "metadata": {
  "kernelspec": {
   "display_name": "Python 3.11.0rc2 64-bit",
   "language": "python",
   "name": "python3"
  },
  "language_info": {
   "codemirror_mode": {
    "name": "ipython",
    "version": 3
   },
   "file_extension": ".py",
   "mimetype": "text/x-python",
   "name": "python",
   "nbconvert_exporter": "python",
   "pygments_lexer": "ipython3",
   "version": "3.11.0"
  },
  "orig_nbformat": 4,
  "vscode": {
   "interpreter": {
    "hash": "05dc42780283f54a33ff705bcc46a75064f9f718e5b179303788596c2d23ce7f"
   }
  }
 },
 "nbformat": 4,
 "nbformat_minor": 2
}
